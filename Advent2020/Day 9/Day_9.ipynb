{
 "metadata": {
  "language_info": {
   "codemirror_mode": {
    "name": "ipython",
    "version": 3
   },
   "file_extension": ".py",
   "mimetype": "text/x-python",
   "name": "python",
   "nbconvert_exporter": "python",
   "pygments_lexer": "ipython3",
   "version": "3.7.9-final"
  },
  "orig_nbformat": 2,
  "kernelspec": {
   "name": "python3",
   "display_name": "Python 3",
   "language": "python"
  }
 },
 "nbformat": 4,
 "nbformat_minor": 2,
 "cells": [
  {
   "cell_type": "code",
   "execution_count": 40,
   "metadata": {
    "tags": []
   },
   "outputs": [
    {
     "output_type": "stream",
     "name": "stdout",
     "text": [
      "167829540\n"
     ]
    }
   ],
   "source": [
    "#Day 9 \n",
    "#Part 1\n",
    "\n",
    "f = open('Day_9_data.txt').read().splitlines()\n",
    "\n",
    "f = [int(num) for num in f]\n",
    "\n",
    "def window_summation(input, preamble):\n",
    "    for sum in input[preamble:]:\n",
    "        set_addends = set()\n",
    "        count_of_set_adds = 0\n",
    "        index_answer = preamble\n",
    "        for addend in input[input.index(sum)-preamble:input.index(sum)]:\n",
    "            if sum - addend not in set_addends:\n",
    "                set_addends.add(addend)\n",
    "                count_of_set_adds = count_of_set_adds + 1\n",
    "            else:\n",
    "                break\n",
    "        if count_of_set_adds == preamble:\n",
    "            return sum\n",
    "\n",
    "answer_part1 = window_summation(f, 25)\n",
    "print(answer_part1)\n",
    "        "
   ]
  },
  {
   "cell_type": "code",
   "execution_count": 70,
   "metadata": {},
   "outputs": [
    {
     "output_type": "stream",
     "name": "stdout",
     "text": [
      "28045630\n"
     ]
    }
   ],
   "source": [
    "#Part 2\n",
    "\n",
    "def sliding_summation(input, sum):\n",
    "    begin_index = 0\n",
    "    end_index = 1\n",
    "    sliding_sum = input[begin_index]\n",
    "    while end_index <= len(input):\n",
    "        if sliding_sum == sum:\n",
    "            return min(input[begin_index: end_index]) +max(input[begin_index: end_index])\n",
    "        elif sliding_sum < sum:\n",
    "            sliding_sum = sliding_sum + input[end_index]\n",
    "            end_index = end_index+1\n",
    "        elif sliding_sum > sum:\n",
    "            sliding_sum = sliding_sum - input[begin_index]\n",
    "            begin_index = begin_index + 1\n",
    "\n",
    "\n",
    "answer_part2 = sliding_summation(f, summation_function(f, 25))  \n",
    "print(answer_part2)"
   ]
  },
  {
   "cell_type": "code",
   "execution_count": null,
   "metadata": {},
   "outputs": [],
   "source": []
  }
 ]
}