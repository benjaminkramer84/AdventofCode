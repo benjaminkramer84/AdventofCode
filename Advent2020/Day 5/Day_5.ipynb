{
 "metadata": {
  "language_info": {
   "codemirror_mode": {
    "name": "ipython",
    "version": 3
   },
   "file_extension": ".py",
   "mimetype": "text/x-python",
   "name": "python",
   "nbconvert_exporter": "python",
   "pygments_lexer": "ipython3",
   "version": "3.7.9-final"
  },
  "orig_nbformat": 2,
  "kernelspec": {
   "name": "python3",
   "display_name": "Python 3"
  }
 },
 "nbformat": 4,
 "nbformat_minor": 2,
 "cells": [
  {
   "cell_type": "code",
   "execution_count": 43,
   "metadata": {},
   "outputs": [
    {
     "output_type": "execute_result",
     "data": {
      "text/plain": [
       "904.0"
      ]
     },
     "metadata": {},
     "execution_count": 43
    }
   ],
   "source": [
    "#Day 5 \n",
    "import numpy as np\n",
    "\n",
    "seats = open('Day_5_data.txt').read().splitlines()\n",
    "\n",
    "\n",
    "rows = 2**7 - 1\n",
    "columns = 2**3 - 1\n",
    "seat_ids = []\n",
    "\n",
    "#Part 1\n",
    "for seat in seats:\n",
    "    #Find Row\n",
    "    min_row = 0\n",
    "    max_row = rows\n",
    "    for letter in seat[0:7]: \n",
    "        if letter == 'F':\n",
    "            max_row = max_row - np.ceil((max_row - min_row) / 2)\n",
    "        if letter == 'B':\n",
    "            min_row = np.ceil((max_row - min_row) / 2) + min_row\n",
    "    if min_row == max_row:\n",
    "        row = min_row\n",
    "    else:\n",
    "        print('Min and Max rows are not equal')\n",
    "        break\n",
    "    #Find Col\n",
    "    min_col = 0\n",
    "    max_col = columns\n",
    "    for letter in seat[7:10]: \n",
    "        if letter == 'L':\n",
    "            max_col = max_col - np.ceil((max_col - min_col) / 2)\n",
    "        if letter == 'R':\n",
    "            min_col = np.ceil((max_col - min_col) / 2) + min_col\n",
    "    if min_col == max_col:\n",
    "        col = min_col\n",
    "    else:\n",
    "        print('Min and Max cols are not equal')\n",
    "        break\n",
    "    #Calc Seat ID\n",
    "    seat_ids.append(row*8+col)\n",
    "\n",
    "max(seat_ids)\n",
    "            \n",
    "            \n"
   ]
  },
  {
   "cell_type": "code",
   "execution_count": 56,
   "metadata": {},
   "outputs": [
    {
     "output_type": "stream",
     "name": "stdout",
     "text": [
      "[669]\n"
     ]
    }
   ],
   "source": [
    "#Part 2\n",
    "complete_seat_list = []\n",
    "for row in range(0,rows+1):\n",
    "    for col in range (0, columns+1):\n",
    "        complete_seat_list.append(row*8+col)\n",
    "\n",
    "\n",
    "seat_id_set = set(seat_ids)\n",
    "\n",
    "missing = []\n",
    "for seat_id in complete_seat_list:\n",
    "    if seat_id not in seat_id_set:\n",
    "        if seat_id + 1 in seat_id_set:\n",
    "            if seat_id - 1 in seat_id_set:\n",
    "                missing.append(seat_id)\n",
    "\n",
    "print(missing)\n",
    "\n",
    "        \n",
    "\n",
    "\n"
   ]
  }
 ]
}