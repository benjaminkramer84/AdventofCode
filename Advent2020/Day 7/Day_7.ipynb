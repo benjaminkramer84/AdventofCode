{
 "metadata": {
  "language_info": {
   "codemirror_mode": {
    "name": "ipython",
    "version": 3
   },
   "file_extension": ".py",
   "mimetype": "text/x-python",
   "name": "python",
   "nbconvert_exporter": "python",
   "pygments_lexer": "ipython3",
   "version": "3.7.9-final"
  },
  "orig_nbformat": 2,
  "kernelspec": {
   "name": "python3",
   "display_name": "Python 3"
  }
 },
 "nbformat": 4,
 "nbformat_minor": 2,
 "cells": [
  {
   "cell_type": "code",
   "execution_count": 94,
   "metadata": {},
   "outputs": [
    {
     "output_type": "stream",
     "name": "stdout",
     "text": [
      "112\n"
     ]
    }
   ],
   "source": [
    "#Day 7\n",
    "\n",
    "luggage_rules = open('Day_7_data.txt').read().splitlines()\n",
    "\n",
    "\n",
    "def build_map(input):\n",
    "    master_map = {}\n",
    "    for rule in input:\n",
    "        if rule.find('no other bags') > 0:\n",
    "            continue\n",
    "        inside_bags = rule.split('contain')[1].split(',')\n",
    "        inside_colors = []\n",
    "        for bag in inside_bags:\n",
    "            inside_colors.append(bag[3:bag.find('bag')-1])\n",
    "        for color in inside_colors:\n",
    "            if color not in master_map:\n",
    "                master_map[color] = {rule.split('bags')[0][:-1]}\n",
    "            elif color in master_map:\n",
    "                master_map[color].add(rule.split('bags')[0][:-1])\n",
    "    return master_map\n",
    "    \n",
    "def find_colors(map_input, target_color):\n",
    "    iteration_child_colors = map_input[target_color]\n",
    "    answer_colors = map_input[target_color]\n",
    "    while len(iteration_child_colors)>0:\n",
    "        iteration_parent_colors = set()\n",
    "        for color in iteration_child_colors:\n",
    "            if color in map_input:\n",
    "                iteration_parent_colors.update(map_input[color])\n",
    "        iteration_child_colors = iteration_parent_colors\n",
    "        answer_colors.update(iteration_parent_colors)\n",
    "    return len(answer_colors)\n",
    "\n",
    "mapping = build_map(luggage_rules)\n",
    "answer = find_colors(mapping, 'shiny gold')\n",
    "print(answer)\n",
    "\n"
   ]
  },
  {
   "cell_type": "code",
   "execution_count": 97,
   "metadata": {},
   "outputs": [
    {
     "output_type": "execute_result",
     "data": {
      "text/plain": [
       "6260"
      ]
     },
     "metadata": {},
     "execution_count": 97
    }
   ],
   "source": [
    "#Part 2\n",
    "def build_map(input):\n",
    "    tree_map = {}\n",
    "    for rule in input:\n",
    "        outside = rule[0:rule.find('contain')-6]\n",
    "        inside = rule[rule.find('contain')+len('contain')+1:].split(', ')\n",
    "        if rule.find('no other bags') > 0:\n",
    "            tree_map[outside] = [{'none':0}]\n",
    "        else:\n",
    "            inside_color_and_count = []\n",
    "            for bag in inside:\n",
    "                color_count = {}\n",
    "                count = bag[0:bag.find(' ')]\n",
    "                color = bag[bag.find(' ')+1:bag.find('bag')-1]\n",
    "                color_count[color] = count\n",
    "                inside_color_and_count.append(color_count)\n",
    "            tree_map[outside] = inside_color_and_count\n",
    "    return tree_map\n",
    "\n",
    "tree_map = build_map(luggage_rules)\n",
    "\n",
    "def bag_lookup(map, top_bag):\n",
    "    if map[top_bag] == [{'none':0}]:\n",
    "        return 0\n",
    "    else:\n",
    "        count = 0\n",
    "        for bag in map[top_bag]:  \n",
    "            count = count +  int(bag[list(bag)[0]]) * (bag_lookup(map, list(bag)[0]) + 1)\n",
    "    return count\n",
    "\n",
    "answer = bag_lookup(tree_map, 'shiny gold')\n",
    "print(answer)\n"
   ]
  }
 ]
}