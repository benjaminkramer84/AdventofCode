{
 "metadata": {
  "language_info": {
   "codemirror_mode": {
    "name": "ipython",
    "version": 3
   },
   "file_extension": ".py",
   "mimetype": "text/x-python",
   "name": "python",
   "nbconvert_exporter": "python",
   "pygments_lexer": "ipython3",
   "version": "3.7.9-final"
  },
  "orig_nbformat": 2,
  "kernelspec": {
   "name": "python3",
   "display_name": "Python 3"
  }
 },
 "nbformat": 4,
 "nbformat_minor": 2,
 "cells": [
  {
   "cell_type": "code",
   "execution_count": 2,
   "metadata": {},
   "outputs": [],
   "source": [
    "##Day 1 - Done in Pandas\n",
    "##Goal: Two Sum\n",
    "\n",
    "import pandas as pd\n",
    "import numpy as np"
   ]
  },
  {
   "cell_type": "code",
   "execution_count": 14,
   "metadata": {},
   "outputs": [
    {
     "output_type": "execute_result",
     "data": {
      "text/plain": [
       "   nums\n",
       "0  1546\n",
       "1  1119\n",
       "2  1870\n",
       "3  1193\n",
       "4  1198"
      ],
      "text/html": "<div>\n<style scoped>\n    .dataframe tbody tr th:only-of-type {\n        vertical-align: middle;\n    }\n\n    .dataframe tbody tr th {\n        vertical-align: top;\n    }\n\n    .dataframe thead th {\n        text-align: right;\n    }\n</style>\n<table border=\"1\" class=\"dataframe\">\n  <thead>\n    <tr style=\"text-align: right;\">\n      <th></th>\n      <th>nums</th>\n    </tr>\n  </thead>\n  <tbody>\n    <tr>\n      <th>0</th>\n      <td>1546</td>\n    </tr>\n    <tr>\n      <th>1</th>\n      <td>1119</td>\n    </tr>\n    <tr>\n      <th>2</th>\n      <td>1870</td>\n    </tr>\n    <tr>\n      <th>3</th>\n      <td>1193</td>\n    </tr>\n    <tr>\n      <th>4</th>\n      <td>1198</td>\n    </tr>\n  </tbody>\n</table>\n</div>"
     },
     "metadata": {},
     "execution_count": 14
    }
   ],
   "source": [
    "data = pd.read_csv('Day_1_data.csv', header=0, names=['nums'])\n",
    "data.head(5)"
   ]
  },
  {
   "cell_type": "code",
   "execution_count": 38,
   "metadata": {},
   "outputs": [
    {
     "output_type": "stream",
     "name": "stdout",
     "text": [
      "48914340\n",
      "48914340\n",
      "48914340\n",
      "48914340\n",
      "48914340\n",
      "48914340\n"
     ]
    }
   ],
   "source": [
    "#Version 0(n^2) / O(n^3)\n",
    "for num in data['nums']:\n",
    "    for num2 in data['nums']:\n",
    "        for num3 in data['nums']:\n",
    "            if num+num2+num3 == 2020:\n",
    "                print(num*num2*num3)\n",
    "        \n"
   ]
  },
  {
   "cell_type": "code",
   "execution_count": 39,
   "metadata": {},
   "outputs": [
    {
     "output_type": "stream",
     "name": "stdout",
     "text": [
      "1007331\n"
     ]
    }
   ],
   "source": [
    "#O(n) way - Part 1\n",
    "set_num = set()\n",
    "for num in data['nums']:\n",
    "    if 2020-num in set_num:\n",
    "        print(num*(2020-num))\n",
    "    else: \n",
    "        set_num.add(num)\n"
   ]
  },
  {
   "cell_type": "code",
   "execution_count": 44,
   "metadata": {},
   "outputs": [
    {
     "output_type": "stream",
     "name": "stdout",
     "text": [
      "48914340\n48914340\n48914340\n"
     ]
    }
   ],
   "source": [
    "#O(n^2) way - Part 2\n",
    "set_num = set()\n",
    "for num in data['nums']:\n",
    "    for num2 in data['nums']:\n",
    "        if 2020-num-num2 in set_num:\n",
    "            print(num*num2*(2020-num-num2))\n",
    "            break\n",
    "        else: \n",
    "            set_num.add(num2)"
   ]
  },
  {
   "cell_type": "code",
   "execution_count": null,
   "metadata": {},
   "outputs": [],
   "source": []
  }
 ]
}