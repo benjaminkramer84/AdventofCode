{
 "metadata": {
  "language_info": {
   "codemirror_mode": {
    "name": "ipython",
    "version": 3
   },
   "file_extension": ".py",
   "mimetype": "text/x-python",
   "name": "python",
   "nbconvert_exporter": "python",
   "pygments_lexer": "ipython3",
   "version": "3.7.9-final"
  },
  "orig_nbformat": 2,
  "kernelspec": {
   "name": "python3",
   "display_name": "Python 3",
   "language": "python"
  }
 },
 "nbformat": 4,
 "nbformat_minor": 2,
 "cells": [
  {
   "cell_type": "code",
   "execution_count": 100,
   "metadata": {},
   "outputs": [
    {
     "output_type": "execute_result",
     "data": {
      "text/plain": [
       "2112"
      ]
     },
     "metadata": {},
     "execution_count": 100
    }
   ],
   "source": [
    "#Day 10\n",
    "\n",
    "#Part 1 - Faster, without sort\n",
    "f = open('Day_10_data.txt').read().splitlines()\n",
    "test = open('test_input.txt').read().splitlines() \n",
    "\n",
    "f = [int(num) for num in f]\n",
    "test = [int(num) for num in test]\n",
    "\n",
    "def adapter_function(input, initial_voltage):\n",
    "    adapter_set = set(input)\n",
    "    device_voltage = max(adapter_set) +3\n",
    "    jump_1 = 0\n",
    "    jump_3 = 0\n",
    "    current_voltage = initial_voltage\n",
    "    while len(adapter_set)>=0:\n",
    "        if current_voltage + 1 in adapter_set:\n",
    "            jump_1 = jump_1 + 1\n",
    "            adapter_set.remove(current_voltage + 1)\n",
    "            current_voltage = current_voltage + 1\n",
    "        elif current_voltage + 2 in adapter_set:\n",
    "            adapter_set.remove(current_voltage + 2)\n",
    "            current_voltage = current_voltage + 2\n",
    "        elif current_voltage + 3 in adapter_set:\n",
    "            jump_3 = jump_3 + 1\n",
    "            adapter_set.remove(current_voltage + 3)\n",
    "            current_voltage = current_voltage + 3\n",
    "        elif current_voltage + 3 == device_voltage:\n",
    "            jump_3 = jump_3 + 1\n",
    "            return jump_1 * jump_3\n",
    "\n",
    "adapter_function(f,0)"
   ]
  },
  {
   "cell_type": "code",
   "execution_count": 101,
   "metadata": {},
   "outputs": [
    {
     "output_type": "stream",
     "name": "stdout",
     "text": [
      "2112\n"
     ]
    }
   ],
   "source": [
    "\n",
    "#Part 1 - Method with sort\n",
    "\n",
    "f = open('Day_10_data.txt').read().splitlines()\n",
    "test = open('test_input.txt').read().splitlines() \n",
    "\n",
    "f = [int(num) for num in f]\n",
    "test = [int(num) for num in test]\n",
    "\n",
    "def adapter_sort_function(input, initial_voltage):\n",
    "    voltage_list = input\n",
    "    voltage_list.extend([0, max(input) + 3])\n",
    "    voltage_list.sort()\n",
    "    difference_array = []\n",
    "    index = 0\n",
    "    while index <= len(voltage_list) - 2:\n",
    "        difference_array.append(voltage_list[index + 1] - voltage_list[index])\n",
    "        index = index + 1\n",
    "    return difference_array.count(1) * difference_array.count(3)\n",
    "\n",
    "answer_part1 = adapter_sort_function(f,0)\n",
    "print(answer_part1)"
   ]
  },
  {
   "cell_type": "code",
   "execution_count": 144,
   "metadata": {},
   "outputs": [
    {
     "output_type": "stream",
     "name": "stdout",
     "text": [
      "[1, 1, 1, 3, 1, 1, 1, 3, 1, 1, 3, 1, 1, 3, 1, 1, 1, 3, 1, 1, 1, 1, 3, 1, 1, 3, 1, 1, 1, 3, 1, 1, 1, 3, 3, 1, 3, 1, 1, 1, 1, 3, 1, 1, 1, 3, 3, 3, 1, 1, 1, 1, 3, 1, 1, 1, 3, 3, 1, 1, 1, 1, 3, 1, 3, 3, 3, 1, 1, 3, 3, 1, 1, 1, 1, 3, 1, 1, 3, 1, 1, 1, 1, 3, 1, 3, 3, 3, 1, 1, 1, 1, 3, 1, 1, 1, 1, 3]\n[3, 3, 2, 2, 3, 4, 2, 3, 3, 0, 1, 4, 3, 0, 0, 4, 3, 0, 4, 1, 0, 0, 2, 0, 4, 2, 4, 1, 0, 0, 4, 4]\n3022415986688\n"
     ]
    }
   ],
   "source": [
    "#Part 2\n",
    "\n",
    "f = open('Day_10_data.txt').read().splitlines()\n",
    "test = open('test_input.txt').read().splitlines() \n",
    "\n",
    "f = [int(num) for num in f]\n",
    "test = [int(num) for num in test]\n",
    "\n",
    "#Create Difference Array\n",
    "def adapter_sorted_differences(input, initial_voltage):\n",
    "    voltage_list = input\n",
    "    voltage_list.extend([0, max(input) + 3])\n",
    "    voltage_list.sort()\n",
    "    difference_array = []\n",
    "    index = 0\n",
    "    while index <= len(voltage_list) - 2:\n",
    "        difference_array.append(voltage_list[index + 1] - voltage_list[index])\n",
    "        index = index + 1\n",
    "    return difference_array\n",
    "\n",
    "difference_array = adapter_sorted_differences(f,0)\n",
    "\n",
    "#Find sets where the difference between numbers is 1 (i.e. not 3)\n",
    "def count_sets_of_one(array):\n",
    "    preceding = array[0]\n",
    "    count_ones = 0\n",
    "    set_counts = []\n",
    "    for index, dif in enumerate(array):\n",
    "        if dif == 1:\n",
    "            count_ones = count_ones + 1\n",
    "        if dif == 3:\n",
    "            if preceding == 1:\n",
    "                set_counts.append(count_ones)\n",
    "                count_ones = 0\n",
    "            if preceding == 3:\n",
    "                count_ones = 0\n",
    "    preceding = array[index-1]\n",
    "    return set_counts\n",
    "\n",
    "#create tribonacci sequence:\n",
    "n0 = 0\n",
    "n1 = 1\n",
    "n2 = 1\n",
    "trib_sequence = [n0,n1,n2]\n",
    "for index in range(3,20):\n",
    "    trib_sequence.append(trib_sequence[index-1]+trib_sequence[index-2]+trib_sequence[index-3])\n",
    "\n",
    "print(difference_array)\n",
    "set_counts = count_sets_of_one(difference_array)\n",
    "print(set_counts)\n",
    "\n",
    "#Put it all together\n",
    "permutations = 1\n",
    "for num_ones in set_counts:\n",
    "    permutations = permutations * trib_sequence[num_ones+1]\n",
    "\n",
    "print(permutations)\n",
    "\n"
   ]
  }
 ]
}