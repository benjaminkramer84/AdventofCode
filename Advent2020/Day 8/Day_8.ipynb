{
 "metadata": {
  "language_info": {
   "codemirror_mode": {
    "name": "ipython",
    "version": 3
   },
   "file_extension": ".py",
   "mimetype": "text/x-python",
   "name": "python",
   "nbconvert_exporter": "python",
   "pygments_lexer": "ipython3",
   "version": "3.7.9-final"
  },
  "orig_nbformat": 2,
  "kernelspec": {
   "name": "python3",
   "display_name": "Python 3",
   "language": "python"
  }
 },
 "nbformat": 4,
 "nbformat_minor": 2,
 "cells": [
  {
   "cell_type": "code",
   "execution_count": 6,
   "metadata": {
    "tags": []
   },
   "outputs": [
    {
     "output_type": "stream",
     "name": "stdout",
     "text": [
      "[1654, 516]\n"
     ]
    }
   ],
   "source": [
    "#Day 8\n",
    "\n",
    "instruction_list= open('Day_8_data.txt').read().splitlines()\n",
    "\n",
    "#Part 1\n",
    "def instruction_execution(input):\n",
    "    completed_instructions = set()\n",
    "    accumulator = 0\n",
    "    index = 0\n",
    "    while index not in completed_instructions and index <= len(input)-1:\n",
    "        completed_instructions.add(index)\n",
    "        instruction = input[index]\n",
    "        if instruction[:3] == 'acc':\n",
    "            if instruction[4] == '+':\n",
    "                accumulator = accumulator + int(instruction[5:])\n",
    "                index = index + 1\n",
    "            elif instruction[4] == '-':\n",
    "                accumulator = accumulator - int(instruction[5:])\n",
    "                index = index + 1\n",
    "        if instruction[:3] == 'jmp':\n",
    "            if instruction[4] == '+':\n",
    "                index = index + int(instruction[5:])\n",
    "            elif instruction[4] == '-':\n",
    "                index = index - int(instruction[5:])\n",
    "        if instruction[:3] == 'nop':\n",
    "            index = index + 1\n",
    "    return [accumulator , index]\n",
    "        \n",
    "answer =instruction_execution(instruction_list)\n",
    "\n",
    "print(answer)\n"
   ]
  },
  {
   "cell_type": "code",
   "execution_count": 22,
   "metadata": {},
   "outputs": [
    {
     "output_type": "execute_result",
     "data": {
      "text/plain": [
       "833"
      ]
     },
     "metadata": {},
     "execution_count": 22
    }
   ],
   "source": [
    "#Part 2\n",
    "def instruction_fixer(input):\n",
    "    attempted_switches = set()\n",
    "    for index, instruction in enumerate(input):\n",
    "        input_updated = input.copy()\n",
    "        if instruction[:3] == 'jmp':\n",
    "            input_updated[index] = 'nop' + instruction[3:]\n",
    "        if instruction[:3] == 'nop':\n",
    "            input_updated[index] = 'jmp' + instruction[3:]\n",
    "        answer = instruction_execution(input_updated)\n",
    "        if answer[1] == len(input):\n",
    "            return answer[0]\n",
    "            break\n",
    "\n",
    "answer_part2 = instruction_fixer(instruction_list)\n",
    "print(answer)"
   ]
  },
  {
   "cell_type": "code",
   "execution_count": null,
   "metadata": {},
   "outputs": [],
   "source": []
  }
 ]
}