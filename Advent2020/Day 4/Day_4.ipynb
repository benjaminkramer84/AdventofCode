{
 "metadata": {
  "language_info": {
   "codemirror_mode": {
    "name": "ipython",
    "version": 3
   },
   "file_extension": ".py",
   "mimetype": "text/x-python",
   "name": "python",
   "nbconvert_exporter": "python",
   "pygments_lexer": "ipython3",
   "version": "3.7.9-final"
  },
  "orig_nbformat": 2,
  "kernelspec": {
   "name": "python3",
   "display_name": "Python 3"
  }
 },
 "nbformat": 4,
 "nbformat_minor": 2,
 "cells": [
  {
   "cell_type": "code",
   "execution_count": 183,
   "metadata": {
    "tags": []
   },
   "outputs": [
    {
     "output_type": "execute_result",
     "data": {
      "text/plain": [
       "198"
      ]
     },
     "metadata": {},
     "execution_count": 183
    }
   ],
   "source": [
    "#Day 4 \n",
    "import re \n",
    "\n",
    "input = open(\"Day_4_data.txt\").read().split('\\n\\n')\n",
    "\n",
    "country_passport = {'byr','iyr','eyr','hgt','hcl','ecl','pid','cid'}\n",
    "northpole_passport = {'byr','iyr','eyr','hgt','hcl','ecl','pid'}\n",
    "\n",
    "# Part 1\n",
    "def valid_passport_function(passport_list, valid_a, valid_b):\n",
    "    valid_count=0\n",
    "    for passport in passport_list:\n",
    "        passport_items = passport.split()\n",
    "        passport_field = set()\n",
    "        for item in passport_items:\n",
    "            passport_field.add(item[0:3])\n",
    "        if passport_field == valid_a or passport_field == valid_b:\n",
    "            valid_count = valid_count+1\n",
    "    return valid_count\n",
    "\n",
    "valid_passport_function(input, country_passport, northpole_passport)\n",
    "\n",
    "hcl_pattern = re.compile(\"^#[a-f0-9]{6}$\")\n",
    "pid_pattern = re.compile(\"^[0-9]{9}$\")\n",
    "ecl_set = {'amb', 'blu', 'brn', 'gry', 'grn', 'hzl', 'oth'}\n",
    "\n",
    "#Part_2\n",
    "def valid_passport_function_2(passport_list, valid_a, valid_b):\n",
    "    valid_count=0\n",
    "    for passport in passport_list:\n",
    "        passport_items = passport.split()\n",
    "        passport_field = {}\n",
    "        #Create dictionary for the passport\n",
    "        for item in passport_items:\n",
    "            passport_field[item[0:3]]=item[4:]\n",
    "        #Check keys are complete (256)\n",
    "        if set(passport_field.keys()) != valid_a and set(passport_field.keys()) != valid_b:    \n",
    "            continue\n",
    "       #Check byr (227)\n",
    "        if int(passport_field['byr']) <1920 or  int(passport_field['byr']) >2002:\n",
    "            continue\n",
    "        #check iyr (220)\n",
    "        if int(passport_field['iyr']) <2010 or  int(passport_field['iyr']) >2020:\n",
    "            continue\n",
    "        #check eyr (215)\n",
    "        if int(passport_field['eyr']) <2020 or  int(passport_field['eyr']) >2030:\n",
    "            continue\n",
    "        #check hgt (212)\n",
    "        if passport_field['hgt'][-2:] not in {'cm', 'in'}:\n",
    "            continue\n",
    "        if passport_field['hgt'][-2:] == 'cm':\n",
    "            if int(passport_field['hgt'][:-2]) < 150 or int(passport_field['hgt'][:-2]) > 193:\n",
    "                continue\n",
    "        if passport_field['hgt'][-2:] == 'in':\n",
    "            if int(passport_field['hgt'][:-2]) < 59 or int(passport_field['hgt'][:-2]) > 76:\n",
    "                continue\n",
    "        #check hcl (208)\n",
    "        if not hcl_pattern.match(passport_field['hcl']):\n",
    "            continue\n",
    "        #check ecl (204)\n",
    "        if passport_field['ecl'] not in ecl_set:\n",
    "            continue\n",
    "        #check pid (199)\n",
    "        if not pid_pattern.match(passport_field['pid']):\n",
    "            continue\n",
    "\n",
    "        valid_count = valid_count + 1\n",
    "\n",
    "    return valid_count\n",
    "\n",
    "valid_passport_function_2(input, country_passport, northpole_passport)\n",
    "\n"
   ]
  }
 ]
}