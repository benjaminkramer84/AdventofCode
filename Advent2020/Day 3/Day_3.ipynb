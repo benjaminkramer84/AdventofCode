{
 "metadata": {
  "language_info": {
   "codemirror_mode": {
    "name": "ipython",
    "version": 3
   },
   "file_extension": ".py",
   "mimetype": "text/x-python",
   "name": "python",
   "nbconvert_exporter": "python",
   "pygments_lexer": "ipython3",
   "version": "3.7.9-final"
  },
  "orig_nbformat": 2,
  "kernelspec": {
   "name": "python3",
   "display_name": "Python 3"
  }
 },
 "nbformat": 4,
 "nbformat_minor": 2,
 "cells": [
  {
   "cell_type": "code",
   "execution_count": 34,
   "metadata": {
    "tags": []
   },
   "outputs": [
    {
     "output_type": "execute_result",
     "data": {
      "text/plain": [
       "2265549792"
      ]
     },
     "metadata": {},
     "execution_count": 34
    }
   ],
   "source": [
    "#Day 3\n",
    "tree_map = open(\"Day_3_data.txt\").read().splitlines()\n",
    "\n",
    "tree_map=[]\n",
    "\n",
    "for i in range(0,len(f)):\n",
    "    row=[]\n",
    "    for space in f[i]:\n",
    "        row.append(space)\n",
    "    tree_map.append(row)\n",
    "\n",
    "\n",
    "\n",
    "def count_trees(over,down):\n",
    "    count = 0\n",
    "    for row in range (0,len(tree_map)):\n",
    "        x = over * row % len(tree_map[0])\n",
    "        y = down * row\n",
    "        if y > len(tree_map):\n",
    "            break \n",
    "        if tree_map[y][x] == '#':\n",
    "            count  = count + 1\n",
    "    return count\n",
    "\n",
    "count_trees(1,1) * count_trees(3,1) * count_trees(5,1) * count_trees(7,1) * count_trees(1,2) \n",
    "\n",
    "\n",
    "\n",
    "\n",
    "\n",
    "\n",
    "\n"
   ]
  },
  {
   "cell_type": "code",
   "execution_count": 6,
   "metadata": {},
   "outputs": [
    {
     "output_type": "error",
     "ename": "SyntaxError",
     "evalue": "invalid syntax (<ipython-input-6-ac50e07dc76a>, line 3)",
     "traceback": [
      "\u001b[0;36m  File \u001b[0;32m\"<ipython-input-6-ac50e07dc76a>\"\u001b[0;36m, line \u001b[0;32m3\u001b[0m\n\u001b[0;31m    df['tag'_i]= df['test'][0][i]\u001b[0m\n\u001b[0m             ^\u001b[0m\n\u001b[0;31mSyntaxError\u001b[0m\u001b[0;31m:\u001b[0m invalid syntax\n"
     ]
    }
   ],
   "source": []
  },
  {
   "cell_type": "code",
   "execution_count": null,
   "metadata": {},
   "outputs": [],
   "source": []
  }
 ]
}