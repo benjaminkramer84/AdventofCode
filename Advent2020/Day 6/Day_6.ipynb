{
 "metadata": {
  "language_info": {
   "codemirror_mode": {
    "name": "ipython",
    "version": 3
   },
   "file_extension": ".py",
   "mimetype": "text/x-python",
   "name": "python",
   "nbconvert_exporter": "python",
   "pygments_lexer": "ipython3",
   "version": "3.7.9-final"
  },
  "orig_nbformat": 2,
  "kernelspec": {
   "name": "python3",
   "display_name": "Python 3"
  }
 },
 "nbformat": 4,
 "nbformat_minor": 2,
 "cells": [
  {
   "cell_type": "code",
   "execution_count": 36,
   "metadata": {},
   "outputs": [
    {
     "output_type": "stream",
     "name": "stdout",
     "text": [
      "7128\n"
     ]
    }
   ],
   "source": [
    "#Day 6\n",
    "\n",
    "puzzle_input = open('Day_6_data.txt').read().split('\\n\\n')\n",
    "\n",
    "alphabet = []\n",
    "alpha = 'a'\n",
    "for i in range (1,27):\n",
    "    alphabet.append(alpha)\n",
    "    alpha = chr(ord(alpha)+1)\n",
    "\n",
    "yeses = 0\n",
    "for group in puzzle_input:\n",
    "    people = group.splitlines()\n",
    "    yes_answers = set()\n",
    "    for person in people:\n",
    "        for question in person:\n",
    "            yes_answers.add(question)\n",
    "    yeses = yeses + len(yes_answers)\n",
    "\n",
    "print(yeses)\n",
    "             \n"
   ]
  },
  {
   "cell_type": "code",
   "execution_count": 39,
   "metadata": {},
   "outputs": [
    {
     "output_type": "execute_result",
     "data": {
      "text/plain": [
       "3640"
      ]
     },
     "metadata": {},
     "execution_count": 39
    }
   ],
   "source": [
    "#Part 2\n",
    "\n",
    "\n",
    "def part_2_function(input):\n",
    "    yeses_part2 = 0\n",
    "    for group in input:\n",
    "        people = group.splitlines()\n",
    "        yes_answers_cumulative = set(alphabet)\n",
    "        for person in people:\n",
    "            yes_answers = set()\n",
    "            for question in person:\n",
    "                yes_answers.add(question)\n",
    "            yes_answers_cumulative = yes_answers_cumulative.intersection(yes_answers)\n",
    "        yeses_part2 = yeses_part2 + len(yes_answers_cumulative)\n",
    "    return yeses_part2\n",
    "\n",
    "part_2_function(puzzle_input)\n"
   ]
  }
 ]
}