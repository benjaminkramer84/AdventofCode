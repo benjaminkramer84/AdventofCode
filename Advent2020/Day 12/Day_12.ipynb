{
 "metadata": {
  "language_info": {
   "codemirror_mode": {
    "name": "ipython",
    "version": 3
   },
   "file_extension": ".py",
   "mimetype": "text/x-python",
   "name": "python",
   "nbconvert_exporter": "python",
   "pygments_lexer": "ipython3",
   "version": "3.7.9-final"
  },
  "orig_nbformat": 2,
  "kernelspec": {
   "name": "python3",
   "display_name": "Python 3",
   "language": "python"
  }
 },
 "nbformat": 4,
 "nbformat_minor": 2,
 "cells": [
  {
   "cell_type": "code",
   "execution_count": 101,
   "metadata": {},
   "outputs": [
    {
     "output_type": "execute_result",
     "data": {
      "text/plain": [
       "2847.0"
      ]
     },
     "metadata": {},
     "execution_count": 101
    }
   ],
   "source": [
    "#Day 12\n",
    "\n",
    "#Part 1\n",
    "import re\n",
    "import math\n",
    "\n",
    "data = open('day_11_data.txt').read().splitlines()\n",
    "\n",
    "pattern = re.compile('(^[NSEWLRF])([0-9]*$)')\n",
    "\n",
    "map = {'N': [0, 1], 'S': [0, -1], 'E': [1,0], 'W': [-1, 0]}\n",
    "map_turns = {'L': 1, 'R': -1}\n",
    "\n",
    "\n",
    "def coordinate_add(a, b):\n",
    "    x = a[0]+b[0]\n",
    "    y = a[1]+b[1]\n",
    "    return [x,y]\n",
    "\n",
    "def coordinate_subtract(a, b):\n",
    "    x = b[0]-a[0]\n",
    "    y = b[1]-a[1]\n",
    "    return [x,y]\n",
    "    \n",
    "\n",
    "def boat_movement(input):\n",
    "    position = [0,0]\n",
    "    direction = 0\n",
    "    for i in input:\n",
    "        instruction = pattern.match(i)\n",
    "        action = instruction.group(1)\n",
    "        value = int(instruction.group(2))\n",
    "        if action in map.keys():\n",
    "            addend = [value * step for step in map[action]]\n",
    "            position = coordinate_add(position, addend)\n",
    "        elif action in map_turns.keys():\n",
    "            direction = direction + map_turns[action]*value\n",
    "        elif action == 'F':\n",
    "            addend = [value * math.cos(math.radians(direction)), value * math.sin(math.radians(direction))]\n",
    "            position = coordinate_add(position, addend)\n",
    "        #print(position, direction)\n",
    "        \n",
    "    return abs(position[0])+abs(position[1])\n",
    "        \n",
    "boat_movement(data)\n",
    "\n",
    "\n"
   ]
  },
  {
   "cell_type": "code",
   "execution_count": 100,
   "metadata": {
    "tags": []
   },
   "outputs": [
    {
     "output_type": "execute_result",
     "data": {
      "text/plain": [
       "29839"
      ]
     },
     "metadata": {},
     "execution_count": 100
    }
   ],
   "source": [
    "# Part 2\n",
    "\n",
    "def waypoint_movement(input):\n",
    "    waypoint_position_relative = [10, 1]\n",
    "    boat_position = [0,0]\n",
    "    for i in input:\n",
    "        instruction = pattern.match(i)\n",
    "        action = instruction.group(1)\n",
    "        value = int(instruction.group(2))\n",
    "        if action in map.keys():\n",
    "            addend = [value * step for step in map[action]]\n",
    "            waypoint_position_relative = coordinate_add(waypoint_position_relative, addend)\n",
    "        elif action in map_turns.keys():\n",
    "            waypoint_distance = math.sqrt(waypoint_position_relative[0]**2 + waypoint_position_relative[1]**2)\n",
    "            if waypoint_position_relative[0] == 0: \n",
    "                if waypoint_position_relative[1] < 0: waypoint_angle = -1 * math.pi/2\n",
    "                if waypoint_position_relative[1] > 0: waypoint_angle = 1 * math.pi/2\n",
    "            else: \n",
    "                if waypoint_position_relative[0] < 0: waypoint_angle = math.atan(waypoint_position_relative[1]/waypoint_position_relative[0]) + math.pi\n",
    "                if waypoint_position_relative[0] > 0: waypoint_angle = math.atan(waypoint_position_relative[1]/waypoint_position_relative[0])\n",
    "            waypoint_angle = waypoint_angle + map_turns[action] * math.radians(value)\n",
    "            waypoint_position_relative = [round(math.cos(waypoint_angle)*waypoint_distance), round(math.sin(waypoint_angle)*waypoint_distance)]\n",
    "        elif action == 'F':\n",
    "            addend = [value * waypoint_position_relative[0], value * waypoint_position_relative[1]]\n",
    "            boat_position = coordinate_add(boat_position, addend)\n",
    "    return abs(boat_position[0])+abs(boat_position[1])\n",
    "\n",
    "waypoint_movement(data)"
   ]
  }
 ]
}