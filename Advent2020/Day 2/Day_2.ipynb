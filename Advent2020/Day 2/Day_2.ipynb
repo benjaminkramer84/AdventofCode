{
 "metadata": {
  "language_info": {
   "codemirror_mode": {
    "name": "ipython",
    "version": 3
   },
   "file_extension": ".py",
   "mimetype": "text/x-python",
   "name": "python",
   "nbconvert_exporter": "python",
   "pygments_lexer": "ipython3",
   "version": "3.7.9-final"
  },
  "orig_nbformat": 2,
  "kernelspec": {
   "name": "python3",
   "display_name": "Python 3"
  }
 },
 "nbformat": 4,
 "nbformat_minor": 2,
 "cells": [
  {
   "cell_type": "code",
   "execution_count": 36,
   "metadata": {},
   "outputs": [
    {
     "output_type": "execute_result",
     "data": {
      "text/plain": [
       "                    orig\n",
       "0           2-4 f: cfkmf\n",
       "1  9-12 m: mmmmmmmmmmmmm\n",
       "2     2-10 z: vghqbzbcxf\n",
       "3   10-11 b: tbtbvbbnbwd\n",
       "4          1-6 d: cmhdnw"
      ],
      "text/html": "<div>\n<style scoped>\n    .dataframe tbody tr th:only-of-type {\n        vertical-align: middle;\n    }\n\n    .dataframe tbody tr th {\n        vertical-align: top;\n    }\n\n    .dataframe thead th {\n        text-align: right;\n    }\n</style>\n<table border=\"1\" class=\"dataframe\">\n  <thead>\n    <tr style=\"text-align: right;\">\n      <th></th>\n      <th>orig</th>\n    </tr>\n  </thead>\n  <tbody>\n    <tr>\n      <th>0</th>\n      <td>2-4 f: cfkmf</td>\n    </tr>\n    <tr>\n      <th>1</th>\n      <td>9-12 m: mmmmmmmmmmmmm</td>\n    </tr>\n    <tr>\n      <th>2</th>\n      <td>2-10 z: vghqbzbcxf</td>\n    </tr>\n    <tr>\n      <th>3</th>\n      <td>10-11 b: tbtbvbbnbwd</td>\n    </tr>\n    <tr>\n      <th>4</th>\n      <td>1-6 d: cmhdnw</td>\n    </tr>\n  </tbody>\n</table>\n</div>"
     },
     "metadata": {},
     "execution_count": 36
    }
   ],
   "source": [
    "#Day 2\n",
    "import pandas as pd \n",
    "import numpy as np \n",
    "import re\n",
    "\n",
    "data = pd.read_csv('Day_2_data.csv', header=0, names=['orig'])\n",
    "#data.head()\n",
    "\n",
    "\n"
   ]
  },
  {
   "cell_type": "code",
   "execution_count": 93,
   "metadata": {
    "tags": []
   },
   "outputs": [
    {
     "output_type": "stream",
     "name": "stdout",
     "text": [
      "378\n"
     ]
    }
   ],
   "source": [
    "##Part 1\n",
    "data['split']=data['orig'].str.split('-| |: ', expand=False)\n",
    "split_data=data['split'].apply(pd.Series).rename(columns={0:'min', 1:'max',2:'letter', 3:'string'})\n",
    "#split_data.head()\n",
    "\n",
    "answer=0\n",
    "\n",
    "for index, row in split_data.iterrows():\n",
    "    if int(row['min']) <= int(row['string'].count(row['letter'])) <= int(row['max']):\n",
    "        answer = answer + 1\n",
    "\n",
    "print(answer)\n"
   ]
  },
  {
   "cell_type": "code",
   "execution_count": 101,
   "metadata": {},
   "outputs": [
    {
     "output_type": "stream",
     "name": "stdout",
     "text": [
      "280\n"
     ]
    }
   ],
   "source": [
    "##Part 2\n",
    "\n",
    "answer2 = 0\n",
    "for index, row in split_data.iterrows():\n",
    "    if row['string'][int(row['min'])-1] == row['letter']:\n",
    "        if row['string'][int(row['max'])-1] != row['letter']:\n",
    "            answer2 = answer2 + 1\n",
    "    elif row['string'][int(row['max'])-1] == row['letter']:\n",
    "        answer2 = answer2 + 1\n",
    "print(answer2)"
   ]
  },
  {
   "cell_type": "code",
   "execution_count": null,
   "metadata": {},
   "outputs": [],
   "source": []
  }
 ]
}